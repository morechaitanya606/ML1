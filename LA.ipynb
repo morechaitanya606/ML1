{
 "cells": [
  {
   "cell_type": "code",
   "execution_count": 1,
   "id": "2204c1a5-799e-4c8a-89ed-d3190c77591e",
   "metadata": {},
   "outputs": [],
   "source": [
    "from sklearn.model_selection import train_test_split\n",
    "import pandas as pd\n",
    "import numpy as np \n",
    "import matplotlib.pyplot as plt \n",
    "from sklearn.metrics import mean_absolute_error"
   ]
  },
  {
   "cell_type": "code",
   "execution_count": 2,
   "id": "76efa0e6-2749-4ea7-8fb3-05757713670d",
   "metadata": {},
   "outputs": [],
   "source": [
    "class LA:\n",
    "    def __init__(self):\n",
    "        self.m=None\n",
    "        self.b=None\n",
    "\n",
    "    def fit(self,X_train,Y_train):\n",
    "\n",
    "        num=0\n",
    "        den=0\n",
    "\n",
    "        for i in range(X_train.shape[0]):\n",
    "            num += (X_train[i] - X_train.mean()) * (Y_train[i] - Y_train.mean())\n",
    "            den += (X_train[i] - X_train.mean()) ** 2\n",
    "\n",
    "        self.m=num/den\n",
    "        self.b=Y_train.mean()-(self.m*X_train.mean())\n",
    "        print(self.m)\n",
    "        print(self.b)\n",
    "        \n",
    "\n",
    "    def predict(self,X_test):\n",
    "        return self.m*X_test+self.b"
   ]
  },
  {
   "cell_type": "code",
   "execution_count": 3,
   "id": "93a6162d-2eec-4b48-9199-dff4eb823fc1",
   "metadata": {},
   "outputs": [],
   "source": [
    "df=pd.read_csv(\"Study_Hour.csv\")"
   ]
  },
  {
   "cell_type": "code",
   "execution_count": 4,
   "id": "966693b4-ab24-4651-8e51-b41ab636fb82",
   "metadata": {},
   "outputs": [
    {
     "data": {
      "text/html": [
       "<div>\n",
       "<style scoped>\n",
       "    .dataframe tbody tr th:only-of-type {\n",
       "        vertical-align: middle;\n",
       "    }\n",
       "\n",
       "    .dataframe tbody tr th {\n",
       "        vertical-align: top;\n",
       "    }\n",
       "\n",
       "    .dataframe thead th {\n",
       "        text-align: right;\n",
       "    }\n",
       "</style>\n",
       "<table border=\"1\" class=\"dataframe\">\n",
       "  <thead>\n",
       "    <tr style=\"text-align: right;\">\n",
       "      <th></th>\n",
       "      <th>Hours</th>\n",
       "      <th>Scores</th>\n",
       "    </tr>\n",
       "  </thead>\n",
       "  <tbody>\n",
       "    <tr>\n",
       "      <th>0</th>\n",
       "      <td>2.5</td>\n",
       "      <td>21</td>\n",
       "    </tr>\n",
       "    <tr>\n",
       "      <th>1</th>\n",
       "      <td>5.1</td>\n",
       "      <td>47</td>\n",
       "    </tr>\n",
       "    <tr>\n",
       "      <th>2</th>\n",
       "      <td>3.2</td>\n",
       "      <td>27</td>\n",
       "    </tr>\n",
       "    <tr>\n",
       "      <th>3</th>\n",
       "      <td>8.5</td>\n",
       "      <td>75</td>\n",
       "    </tr>\n",
       "    <tr>\n",
       "      <th>4</th>\n",
       "      <td>3.5</td>\n",
       "      <td>30</td>\n",
       "    </tr>\n",
       "    <tr>\n",
       "      <th>5</th>\n",
       "      <td>1.5</td>\n",
       "      <td>20</td>\n",
       "    </tr>\n",
       "    <tr>\n",
       "      <th>6</th>\n",
       "      <td>9.2</td>\n",
       "      <td>88</td>\n",
       "    </tr>\n",
       "    <tr>\n",
       "      <th>7</th>\n",
       "      <td>5.5</td>\n",
       "      <td>60</td>\n",
       "    </tr>\n",
       "    <tr>\n",
       "      <th>8</th>\n",
       "      <td>8.3</td>\n",
       "      <td>81</td>\n",
       "    </tr>\n",
       "    <tr>\n",
       "      <th>9</th>\n",
       "      <td>2.7</td>\n",
       "      <td>25</td>\n",
       "    </tr>\n",
       "  </tbody>\n",
       "</table>\n",
       "</div>"
      ],
      "text/plain": [
       "   Hours  Scores\n",
       "0    2.5      21\n",
       "1    5.1      47\n",
       "2    3.2      27\n",
       "3    8.5      75\n",
       "4    3.5      30\n",
       "5    1.5      20\n",
       "6    9.2      88\n",
       "7    5.5      60\n",
       "8    8.3      81\n",
       "9    2.7      25"
      ]
     },
     "execution_count": 4,
     "metadata": {},
     "output_type": "execute_result"
    }
   ],
   "source": [
    "df.head(10)"
   ]
  },
  {
   "cell_type": "code",
   "execution_count": 5,
   "id": "905b9fe1-522b-413d-927b-1919cb5ac5da",
   "metadata": {},
   "outputs": [
    {
     "name": "stdout",
     "output_type": "stream",
     "text": [
      "<class 'pandas.core.frame.DataFrame'>\n",
      "RangeIndex: 25 entries, 0 to 24\n",
      "Data columns (total 2 columns):\n",
      " #   Column  Non-Null Count  Dtype  \n",
      "---  ------  --------------  -----  \n",
      " 0   Hours   25 non-null     float64\n",
      " 1   Scores  25 non-null     int64  \n",
      "dtypes: float64(1), int64(1)\n",
      "memory usage: 532.0 bytes\n"
     ]
    }
   ],
   "source": [
    "df.info()"
   ]
  },
  {
   "cell_type": "code",
   "execution_count": 6,
   "id": "3c3eaba2-a581-4988-a6ae-5dfefda520c4",
   "metadata": {},
   "outputs": [],
   "source": [
    "X = df[\"Hours\"].values\n",
    "Y = df[\"Scores\"].values"
   ]
  },
  {
   "cell_type": "markdown",
   "id": "5b7ca70a-3778-40ea-b4ff-35f20e58fecf",
   "metadata": {},
   "source": [
    "# No null valus so we can train the model and check the result ,, lets make comparsion between sklearn linear regression and our LA class"
   ]
  },
  {
   "cell_type": "code",
   "execution_count": 8,
   "id": "f2eddfb3-abe4-4fed-9550-6550d6ec7242",
   "metadata": {},
   "outputs": [],
   "source": [
    "X_train,X_test,Y_train,Y_test=train_test_split(X,Y,test_size=0.2,random_state=42)"
   ]
  },
  {
   "cell_type": "code",
   "execution_count": 9,
   "id": "06279692-80e8-49a7-b45b-3224fd4bb869",
   "metadata": {},
   "outputs": [
    {
     "data": {
      "text/plain": [
       "(20,)"
      ]
     },
     "execution_count": 9,
     "metadata": {},
     "output_type": "execute_result"
    }
   ],
   "source": [
    "X_train.shape\n"
   ]
  },
  {
   "cell_type": "code",
   "execution_count": 10,
   "id": "d0bcc35a-3d99-43ab-ae78-6486975b3e19",
   "metadata": {},
   "outputs": [
    {
     "data": {
      "text/plain": [
       "(20,)"
      ]
     },
     "execution_count": 10,
     "metadata": {},
     "output_type": "execute_result"
    }
   ],
   "source": [
    "Y_train.shape"
   ]
  },
  {
   "cell_type": "markdown",
   "id": "acdaea3b-4ee9-44b4-86d6-fea439e64457",
   "metadata": {},
   "source": [
    "## Doing Linear regression testing "
   ]
  },
  {
   "cell_type": "code",
   "execution_count": 12,
   "id": "3d0e5b4e-8c9b-4e78-b36d-ab926373267f",
   "metadata": {},
   "outputs": [],
   "source": [
    "l=LA()"
   ]
  },
  {
   "cell_type": "markdown",
   "id": "b22234ab-f7ae-4561-9250-942dfb8990cc",
   "metadata": {},
   "source": [
    "#### one is slope and other is intercept"
   ]
  },
  {
   "cell_type": "code",
   "execution_count": 13,
   "id": "8f694bb4-66db-4f48-99e7-b2f8d3999826",
   "metadata": {},
   "outputs": [
    {
     "name": "stdout",
     "output_type": "stream",
     "text": [
      "9.682078154455699\n",
      "2.82689235389973\n"
     ]
    }
   ],
   "source": [
    "l.fit(X_train,Y_train)"
   ]
  },
  {
   "cell_type": "code",
   "execution_count": 15,
   "id": "069b2fe0-d8bc-4246-9fad-d3cb3852f95e",
   "metadata": {},
   "outputs": [
    {
     "data": {
      "text/plain": [
       "array([787.07522286, 293.28923699, 206.1505336 , 738.66483209,\n",
       "       603.11573793])"
      ]
     },
     "execution_count": 15,
     "metadata": {},
     "output_type": "execute_result"
    }
   ],
   "source": [
    "l.predict(Y_test)"
   ]
  },
  {
   "cell_type": "code",
   "execution_count": 86,
   "id": "7dc7b72f-3d16-4d96-865a-8ce07785cb25",
   "metadata": {},
   "outputs": [
    {
     "data": {
      "text/plain": [
       "array([[83.18814104],\n",
       "       [27.03208774],\n",
       "       [27.03208774],\n",
       "       [69.63323162],\n",
       "       [59.95115347]])"
      ]
     },
     "execution_count": 86,
     "metadata": {},
     "output_type": "execute_result"
    }
   ],
   "source": [
    "y_pred=l.predict(X_test)\n",
    "y_pred"
   ]
  },
  {
   "cell_type": "code",
   "execution_count": 88,
   "id": "3864ea6a-2214-40d4-8c9c-f8ab097b639a",
   "metadata": {},
   "outputs": [
    {
     "data": {
      "text/plain": [
       "(5, 1)"
      ]
     },
     "execution_count": 88,
     "metadata": {},
     "output_type": "execute_result"
    }
   ],
   "source": [
    "n=Y_test.shape\n",
    "n"
   ]
  },
  {
   "cell_type": "markdown",
   "id": "061f6479-2165-44c0-81f4-c35f05d4d699",
   "metadata": {},
   "source": [
    "## Doing sklearn linear regresion model testing "
   ]
  },
  {
   "cell_type": "code",
   "execution_count": 18,
   "id": "86ba138b-99b0-439f-9836-828802701a5d",
   "metadata": {},
   "outputs": [],
   "source": [
    "from sklearn.linear_model import LinearRegression\n"
   ]
  },
  {
   "cell_type": "markdown",
   "id": "5ea24ffe-7e00-429f-b9c1-0072b3350844",
   "metadata": {},
   "source": [
    "### As X is 1d array but sklearn linear regression required 2d array converting X in 2d"
   ]
  },
  {
   "cell_type": "code",
   "execution_count": 20,
   "id": "caf6757f-7e6a-4bf4-9d76-36a17c7a304c",
   "metadata": {},
   "outputs": [],
   "source": [
    "X = df[[\"Hours\"]]\n",
    "Y = df[[\"Scores\"]]\n",
    "\n",
    "X_train,X_test,Y_train,Y_test=train_test_split(X,Y,test_size=0.2,random_state=42)"
   ]
  },
  {
   "cell_type": "code",
   "execution_count": 21,
   "id": "f2d03548-6e6e-4263-9758-2a743880c73b",
   "metadata": {},
   "outputs": [
    {
     "data": {
      "text/plain": [
       "(20, 1)"
      ]
     },
     "execution_count": 21,
     "metadata": {},
     "output_type": "execute_result"
    }
   ],
   "source": [
    "X_train.shape"
   ]
  },
  {
   "cell_type": "code",
   "execution_count": 22,
   "id": "3c1d2b40-cfef-4c1d-9835-95939b18577a",
   "metadata": {},
   "outputs": [
    {
     "data": {
      "text/plain": [
       "(20, 1)"
      ]
     },
     "execution_count": 22,
     "metadata": {},
     "output_type": "execute_result"
    }
   ],
   "source": [
    "Y_train.shape"
   ]
  },
  {
   "cell_type": "code",
   "execution_count": 23,
   "id": "faa47d56-b9e3-44d4-9b47-0a83a9c3bfe1",
   "metadata": {},
   "outputs": [],
   "source": [
    "model=LinearRegression()"
   ]
  },
  {
   "cell_type": "code",
   "execution_count": 24,
   "id": "29cc48da-8f3e-47ad-a4ac-f54bf0f73ac1",
   "metadata": {},
   "outputs": [],
   "source": [
    "l=model.fit(X_train,Y_train)\n"
   ]
  },
  {
   "cell_type": "code",
   "execution_count": 25,
   "id": "779d535b-3b42-4b96-b7ba-4432b9fc85fb",
   "metadata": {},
   "outputs": [],
   "source": [
    "y_preds=l.predict(X_test)                    # → gives predictions of Y values"
   ]
  },
  {
   "cell_type": "code",
   "execution_count": 26,
   "id": "a317b334-ea36-435d-86aa-ecc2e416e04f",
   "metadata": {},
   "outputs": [
    {
     "data": {
      "text/plain": [
       "array([[9.68207815]])"
      ]
     },
     "execution_count": 26,
     "metadata": {},
     "output_type": "execute_result"
    }
   ],
   "source": [
    "l.coef_  ## slope "
   ]
  },
  {
   "cell_type": "code",
   "execution_count": 27,
   "id": "8320f45d-449d-45d5-8762-2010d4c2e0f4",
   "metadata": {},
   "outputs": [
    {
     "data": {
      "text/plain": [
       "array([2.82689235])"
      ]
     },
     "execution_count": 27,
     "metadata": {},
     "output_type": "execute_result"
    }
   ],
   "source": [
    "l.intercept_    ## intercept b"
   ]
  },
  {
   "cell_type": "markdown",
   "id": "3007f6e9-11b5-401d-845d-e830447dc80b",
   "metadata": {},
   "source": [
    "###  Lets make Evalution of this results mae,R2 etc"
   ]
  },
  {
   "cell_type": "code",
   "execution_count": 29,
   "id": "c129229a-7bd3-4509-aa29-763aea55b724",
   "metadata": {},
   "outputs": [],
   "source": [
    "from sklearn.metrics import mean_absolute_error, mean_squared_error, r2_score"
   ]
  },
  {
   "cell_type": "code",
   "execution_count": 67,
   "id": "f89b6abd-d6d3-490b-9fd1-f3e320325d40",
   "metadata": {},
   "outputs": [],
   "source": [
    "mae = mean_absolute_error(Y_test, y_preds)\n",
    "mse = mean_squared_error(Y_test, y_preds)\n",
    "rmse = np.sqrt(mse)\n",
    "r2 = r2_score(Y_test, y_preds)"
   ]
  },
  {
   "cell_type": "code",
   "execution_count": 69,
   "id": "49954e14-396a-487a-b76a-e877f2ab3388",
   "metadata": {},
   "outputs": [
    {
     "name": "stdout",
     "output_type": "stream",
     "text": [
      "Mean Absolute Error (MAE): 3.9207511902099244\n",
      "Mean Squared Error (MSE): 18.943211722315272\n",
      "Root Mean Squared Error (RMSE): 4.352380006653288\n",
      "R² Score: 0.9678055545167994\n"
     ]
    }
   ],
   "source": [
    "print(\"Mean Absolute Error (MAE):\", mae)\n",
    "print(\"Mean Squared Error (MSE):\", mse)\n",
    "print(\"Root Mean Squared Error (RMSE):\", rmse)\n",
    "print(\"R² Score:\", r2)"
   ]
  },
  {
   "cell_type": "code",
   "execution_count": 95,
   "id": "8e7c0cc8-f14c-46f4-a884-8539a9b0943d",
   "metadata": {},
   "outputs": [
    {
     "name": "stdout",
     "output_type": "stream",
     "text": [
      "Adjusted R²: 0.9570740726890659\n"
     ]
    }
   ],
   "source": [
    "n = len(X_test)   # number of test samples and check using X_test.shape\n",
    "k = 1             # one independent variable\n",
    "\n",
    "adj_r2 = 1 - (1 - r2) * (n - 1) / (n - k - 1)\n",
    "print(\"Adjusted R²:\", adj_r2)\n"
   ]
  },
  {
   "cell_type": "code",
   "execution_count": 1,
   "id": "f6a078e9-48e9-406a-8f33-d59746fd5088",
   "metadata": {},
   "outputs": [],
   "source": [
    "class MR:\n",
    "    def __init__(self,learning_rate,epochs):\n",
    "        self.learning_rate=0.01\n",
    "        self.epochs=100\n",
    "        self.m=none\n",
    "        self.b=none\n",
    "\n",
    "    def fit(self,m,b):\n",
    "        pass\n",
    "\n",
    "\n",
    "\n",
    "    def predict(self,X_test):\n",
    "        pass\n",
    "\n",
    "\n",
    "        "
   ]
  },
  {
   "cell_type": "code",
   "execution_count": null,
   "id": "c1146763-4f83-4cda-962d-119f4a462a1a",
   "metadata": {},
   "outputs": [],
   "source": []
  }
 ],
 "metadata": {
  "kernelspec": {
   "display_name": "Python [conda env:base] *",
   "language": "python",
   "name": "conda-base-py"
  },
  "language_info": {
   "codemirror_mode": {
    "name": "ipython",
    "version": 3
   },
   "file_extension": ".py",
   "mimetype": "text/x-python",
   "name": "python",
   "nbconvert_exporter": "python",
   "pygments_lexer": "ipython3",
   "version": "3.12.7"
  }
 },
 "nbformat": 4,
 "nbformat_minor": 5
}
